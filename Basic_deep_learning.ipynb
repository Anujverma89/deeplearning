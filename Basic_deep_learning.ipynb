{
 "cells": [
  {
   "cell_type": "markdown",
   "id": "8652d148",
   "metadata": {},
   "source": [
    "# Basic deep learning \n",
    "#perceptron  is the base of the machine learning\n",
    "\n",
    "Types of algorithms available :- \n",
    "    1)ANN : Artificial neural network  \n",
    "    2)CNN : Convolutional neural network  \n",
    "    3)RNN : Recurrent neural network   \n",
    "    4)GAN : Generative neural netowrk   \n",
    "    \n",
    "Deep learning limitations :- \n",
    "    1)Huge amount of data is required  \n",
    "    2)Strong Hardware architecture (GPU)   \n",
    "    3)No interpretability. Desicion is not interpretable.   \n",
    "    \n",
    "Benefits :- \n",
    "    1)Usees feature learning or Representation learning by default \n",
    "    "
   ]
  },
  {
   "cell_type": "markdown",
   "id": "6ba5eda5",
   "metadata": {},
   "source": [
    "# Datssets for deep learnig :-      \n",
    "    Microsoft coco      \n",
    "    Youtube 8m     \n",
    "    squad wiki pedia        \n",
    "    google audio    \n",
    "    Imagenet"
   ]
  },
  {
   "cell_type": "markdown",
   "id": "c5b9da0c",
   "metadata": {},
   "source": [
    "# Moores law says that every year the performance will increase and the cost will decrease\n",
    "#using nvidia CUDA for deep learning \n",
    "\n",
    "Why DEEP learning getting famous now days :- \n",
    "    1)Huge data amount    \n",
    "    2)Hardware like grahics      \n",
    "    3)FPGA :- Field programmable gate array       \n",
    "    4)ASIC :- Aplication specific integerated circuit like tpu for processing,\n",
    "        edge tpu for smart watches and little devices, npu for mobile.(Custom hardware for deeplearning)        \n",
    "    5)Libraries like Tensorflow + Keras for industry , pytorch for research"
   ]
  },
  {
   "cell_type": "markdown",
   "id": "466c7089",
   "metadata": {},
   "source": [
    "# Types of Neural network \n",
    "    1)MLP : Multi layer perceptron.\n",
    "    2)ANN : Artificial Neural network.\n",
    "    3)RNN : Recurrent neural network. & LSTM : Long short term memeory\n",
    "    4)CNN : Convolutional neural network.\n",
    "    5)GAN : Generative Adverserial network.\n",
    "    6)Auto encoders\n",
    "    \n",
    "    \n",
    "    single perceptron can only work on linear data \n",
    "    Single perceptron used to get failed on XOR function"
   ]
  },
  {
   "cell_type": "markdown",
   "id": "18788fd6",
   "metadata": {},
   "source": [
    "# 1) Perceptron \n",
    "    It is an algorithm and used for supervised machine learning"
   ]
  },
  {
   "cell_type": "code",
   "execution_count": 27,
   "id": "858ee050",
   "metadata": {},
   "outputs": [],
   "source": [
    "import pandas as pd\n",
    "import numpy as np\n",
    "from sklearn.linear_model import Perceptron\n",
    "import seaborn as sns\n",
    "from sklearn.model_selection import train_test_split"
   ]
  },
  {
   "cell_type": "code",
   "execution_count": 12,
   "id": "228a6cd5",
   "metadata": {},
   "outputs": [
    {
     "data": {
      "text/html": [
       "<div>\n",
       "<style scoped>\n",
       "    .dataframe tbody tr th:only-of-type {\n",
       "        vertical-align: middle;\n",
       "    }\n",
       "\n",
       "    .dataframe tbody tr th {\n",
       "        vertical-align: top;\n",
       "    }\n",
       "\n",
       "    .dataframe thead th {\n",
       "        text-align: right;\n",
       "    }\n",
       "</style>\n",
       "<table border=\"1\" class=\"dataframe\">\n",
       "  <thead>\n",
       "    <tr style=\"text-align: right;\">\n",
       "      <th></th>\n",
       "      <th>cgpa</th>\n",
       "      <th>iq</th>\n",
       "      <th>placed</th>\n",
       "    </tr>\n",
       "  </thead>\n",
       "  <tbody>\n",
       "    <tr>\n",
       "      <th>0</th>\n",
       "      <td>7.5</td>\n",
       "      <td>8.5</td>\n",
       "      <td>1</td>\n",
       "    </tr>\n",
       "    <tr>\n",
       "      <th>1</th>\n",
       "      <td>8.5</td>\n",
       "      <td>4.0</td>\n",
       "      <td>0</td>\n",
       "    </tr>\n",
       "    <tr>\n",
       "      <th>2</th>\n",
       "      <td>5.5</td>\n",
       "      <td>9.8</td>\n",
       "      <td>1</td>\n",
       "    </tr>\n",
       "    <tr>\n",
       "      <th>3</th>\n",
       "      <td>9.0</td>\n",
       "      <td>9.8</td>\n",
       "      <td>1</td>\n",
       "    </tr>\n",
       "    <tr>\n",
       "      <th>4</th>\n",
       "      <td>6.6</td>\n",
       "      <td>8.9</td>\n",
       "      <td>1</td>\n",
       "    </tr>\n",
       "    <tr>\n",
       "      <th>5</th>\n",
       "      <td>5.5</td>\n",
       "      <td>6.0</td>\n",
       "      <td>0</td>\n",
       "    </tr>\n",
       "    <tr>\n",
       "      <th>6</th>\n",
       "      <td>7.7</td>\n",
       "      <td>4.0</td>\n",
       "      <td>0</td>\n",
       "    </tr>\n",
       "  </tbody>\n",
       "</table>\n",
       "</div>"
      ],
      "text/plain": [
       "   cgpa   iq  placed\n",
       "0   7.5  8.5       1\n",
       "1   8.5  4.0       0\n",
       "2   5.5  9.8       1\n",
       "3   9.0  9.8       1\n",
       "4   6.6  8.9       1\n",
       "5   5.5  6.0       0\n",
       "6   7.7  4.0       0"
      ]
     },
     "execution_count": 12,
     "metadata": {},
     "output_type": "execute_result"
    }
   ],
   "source": [
    "df = pd.read_csv(\"./data.csv\")\n",
    "df['iq'] = df['iq']/10\n",
    "df"
   ]
  },
  {
   "cell_type": "code",
   "execution_count": 24,
   "id": "8ba56503",
   "metadata": {},
   "outputs": [
    {
     "data": {
      "text/plain": [
       "<Axes: xlabel='iq', ylabel='placed'>"
      ]
     },
     "execution_count": 24,
     "metadata": {},
     "output_type": "execute_result"
    },
    {
     "data": {
      "image/png": "[encoded data removed]",
      "text/plain": [
       "<Figure size 640x480 with 1 Axes>"
      ]
     },
     "metadata": {},
     "output_type": "display_data"
    }
   ],
   "source": [
    "sns.scatterplot(x=df['iq'], y=df['placed'], hue=df['placed'])"
   ]
  },
  {
   "cell_type": "code",
   "execution_count": 59,
   "id": "98637bd0",
   "metadata": {},
   "outputs": [
    {
     "data": {
      "text/plain": [
       "0    1\n",
       "1    0\n",
       "2    1\n",
       "3    1\n",
       "4    1\n",
       "5    0\n",
       "6    0\n",
       "Name: placed, dtype: int64"
      ]
     },
     "execution_count": 59,
     "metadata": {},
     "output_type": "execute_result"
    }
   ],
   "source": [
    "x = df.iloc[:,:2]\n",
    "y = df.iloc[:,-1]\n",
    "y"
   ]
  },
  {
   "cell_type": "code",
   "execution_count": 64,
   "id": "6a1192cd",
   "metadata": {},
   "outputs": [
    {
     "data": {
      "text/plain": [
       "array([[-16.1,  15.2]])"
      ]
     },
     "execution_count": 64,
     "metadata": {},
     "output_type": "execute_result"
    }
   ],
   "source": [
    "p = Perceptron()\n",
    "p.fit(x,y)\n",
    "p.coef_"
   ]
  },
  {
   "cell_type": "code",
   "execution_count": 65,
   "id": "bfef1c3f",
   "metadata": {},
   "outputs": [
    {
     "data": {
      "text/plain": [
       "array([-4.])"
      ]
     },
     "execution_count": 65,
     "metadata": {},
     "output_type": "execute_result"
    }
   ],
   "source": [
    "p.intercept_"
   ]
  },
  {
   "cell_type": "code",
   "execution_count": 69,
   "id": "6ce7b8c2",
   "metadata": {},
   "outputs": [],
   "source": [
    "from mlxtend.plotting import plot_decision_regions"
   ]
  },
  {
   "cell_type": "code",
   "execution_count": 71,
   "id": "ed4a6f99",
   "metadata": {},
   "outputs": [
    {
     "name": "stderr",
     "output_type": "stream",
     "text": [
      "/home/anuj/anaconda3/lib/python3.11/site-packages/sklearn/base.py:439: UserWarning: X does not have valid feature names, but Perceptron was fitted with feature names\n",
      "  warnings.warn(\n"
     ]
    },
    {
     "data": {
      "text/plain": [
       "<Axes: >"
      ]
     },
     "execution_count": 71,
     "metadata": {},
     "output_type": "execute_result"
    },
    {
     "data": {
      "image/png": "[encoded data removed]",
      "text/plain": [
       "<Figure size 640x480 with 1 Axes>"
      ]
     },
     "metadata": {},
     "output_type": "display_data"
    }
   ],
   "source": [
    "plot_decision_regions(x.values,y.values, clf=p, legend=2)"
   ]
  },
  {
   "cell_type": "code",
   "execution_count": null,
   "id": "1853e1fa",
   "metadata": {},
   "outputs": [],
   "source": []
  }
 ],
 "metadata": {
  "kernelspec": {
   "display_name": "Python 3 (ipykernel)",
   "language": "python",
   "name": "python3"
  },
  "language_info": {
   "codemirror_mode": {
    "name": "ipython",
    "version": 3
   },
   "file_extension": ".py",
   "mimetype": "text/x-python",
   "name": "python",
   "nbconvert_exporter": "python",
   "pygments_lexer": "ipython3",
   "version": "3.11.3"
  }
 },
 "nbformat": 4,
 "nbformat_minor": 5
}
