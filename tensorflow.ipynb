{
 "cells": [
  {
   "cell_type": "code",
   "execution_count": 2,
   "id": "2ff7f296",
   "metadata": {},
   "outputs": [],
   "source": [
    "import tensorflow as tf\n",
    "from tensorflow import keras\n",
    "import numpy as np"
   ]
  },
  {
   "cell_type": "code",
   "execution_count": null,
   "id": "1fe315f8",
   "metadata": {},
   "outputs": [],
   "source": [
    "[[   0,    0,    0, ...,    0,   30,  607],\n",
    "       [   0,    0,    0, ...,   50, 3524, 3525],\n",
    "       [   4,   11, 1536, ...,  527,   36, 2108],\n",
    "       ...,\n",
    "       [   0,    0,    0, ...,    0,    0,    0],\n",
    "       [   0,    0,    0, ...,    0,    0,    0],\n",
    "       [   0,    0,    0, ...,    5,    4, 1143]], dtype=int32)# flatening = process of conversion of 2d array into 1d array\n",
    "# no of input layer is euqal to no of feature in dataset in case of image it's the no of pixels in image \n"
   ]
  },
  {
   "cell_type": "code",
   "execution_count": 16,
   "id": "d13f5c23",
   "metadata": {},
   "outputs": [
    {
     "data": {
      "text/plain": [
       "array([7, 2, 1, 0, 4], dtype=uint8)"
      ]
     },
     "execution_count": 16,
     "metadata": {},
     "output_type": "execute_result"
    }
   ],
   "source": [
    "(X_train, Y_train),(X_text, Y_test)=keras.datasets.mnist.load_data()\n",
    "X_train\n",
    "\n",
    "\n",
    "# we have to convert data into train and test \n",
    "# first we will have data split the data into train and test \n",
    "Y_test[:5]\n",
    "\n"
   ]
  },
  {
   "cell_type": "code",
   "execution_count": null,
   "id": "f3208c8c",
   "metadata": {},
   "outputs": [],
   "source": [
    "# apply image processing and deep learning to extract part of image where text is present \n",
    "# model will learn from ocr text and group id and entity_value\n",
    "\n",
    "# no we will have a ocr text and now model can find out the text and match with entity value and give us the result\n",
    "# see now we will"
   ]
  }
 ],
 "metadata": {
  "kernelspec": {
   "display_name": "Python 3 (ipykernel)",
   "language": "python",
   "name": "python3"
  },
  "language_info": {
   "codemirror_mode": {
    "name": "ipython",
    "version": 3
   },
   "file_extension": ".py",
   "mimetype": "text/x-python",
   "name": "python",
   "nbconvert_exporter": "python",
   "pygments_lexer": "ipython3",
   "version": "3.11.3"
  }
 },
 "nbformat": 4,
 "nbformat_minor": 5
}
