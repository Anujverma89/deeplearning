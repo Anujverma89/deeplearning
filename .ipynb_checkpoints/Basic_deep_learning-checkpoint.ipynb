{
 "cells": [
  {
   "cell_type": "markdown",
   "id": "8652d148",
   "metadata": {},
   "source": [
    "# Basic deep learning \n",
    "#perceptron  is the base of the machine learning\n",
    "\n",
    "Types of algorithms available :- \n",
    "    1)ANN : Artificial neural network  \n",
    "    2)CNN : Convolutional neural network  \n",
    "    3)RNN : Recurrent neural network   \n",
    "    4)GAN : Generative neural netowrk   \n",
    "    \n",
    "Deep learning limitations :- \n",
    "    1)Huge amount of data is required  \n",
    "    2)Strong Hardware architecture (GPU)   \n",
    "    3)No interpretability. Desicion is not interpretable.   \n",
    "    \n",
    "Benefits :- \n",
    "    1)Usees feature learning or Representation learning by default \n",
    "    "
   ]
  },
  {
   "cell_type": "markdown",
   "id": "6ba5eda5",
   "metadata": {},
   "source": [
    "# Datssets for deep learnig :-      \n",
    "    Microsoft coco      \n",
    "    Youtube 8m     \n",
    "    squad wiki pedia        \n",
    "    google audio    \n",
    "    Imagenet"
   ]
  },
  {
   "cell_type": "markdown",
   "id": "c5b9da0c",
   "metadata": {},
   "source": [
    "# Moores law says that every year the performance will increase and the cost will decrease\n",
    "#using nvidia CUDA for deep learning \n",
    "\n",
    "Why DEEP learning getting famous now days :- \n",
    "    1)Huge data amount    \n",
    "    2)Hardware like grahics      \n",
    "    3)FPGA :- Field programmable gate array       \n",
    "    4)ASIC :- Aplication specific integerated circuit like tpu for processing,\n",
    "        edge tpu for smart watches and little devices, npu for mobile.(Custom hardware for deeplearning)        \n",
    "    5)Libraries like Tensorflow + Keras for industry , pytorch for research"
   ]
  },
  {
   "cell_type": "markdown",
   "id": "466c7089",
   "metadata": {},
   "source": [
    "# Types of Neural network \n",
    "    1)MLP : Multi layer perceptron.\n",
    "    2)ANN : Artificial Neural network.\n",
    "    3)RNN : Recurrent neural network. & LSTM : Long short term memeory\n",
    "    4)CNN : Convolutional neural network.\n",
    "    5)GAN : Generative Adverserial network.\n",
    "    6)Auto encoders\n",
    "    \n",
    "    \n",
    "    single perceptron can only work on linear data \n",
    "    Single perceptron used to get failed on XOR function"
   ]
  },
  {
   "cell_type": "markdown",
   "id": "108d9b84",
   "metadata": {},
   "source": [
    "# 1) Perceptron \n",
    "    It is an algorithm"
   ]
  },
  {
   "cell_type": "code",
   "execution_count": null,
   "id": "cc3a0551",
   "metadata": {},
   "outputs": [],
   "source": []
  }
 ],
 "metadata": {
  "kernelspec": {
   "display_name": "Python 3 (ipykernel)",
   "language": "python",
   "name": "python3"
  },
  "language_info": {
   "codemirror_mode": {
    "name": "ipython",
    "version": 3
   },
   "file_extension": ".py",
   "mimetype": "text/x-python",
   "name": "python",
   "nbconvert_exporter": "python",
   "pygments_lexer": "ipython3",
   "version": "3.11.3"
  }
 },
 "nbformat": 4,
 "nbformat_minor": 5
}
